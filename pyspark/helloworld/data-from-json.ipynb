{
 "cells": [
  {
   "cell_type": "code",
   "execution_count": 1,
   "id": "37213391-5305-41bd-b9ed-93d424a46f89",
   "metadata": {},
   "outputs": [],
   "source": [
    "# set env\n",
    "import os\n",
    "os.environ['SPARK_HOME'] = \"/home/cloud_user/apps/spark/current\"\n",
    "os.environ['PYSPARK_DRIVER_PYTHON'] = 'jupyter'\n",
    "os.environ['PYSPARK_DRIVER_PYTHON_OPTS'] = 'lab'\n",
    "os.environ['PYSPARK_PYTHON'] = 'python'"
   ]
  },
  {
   "cell_type": "code",
   "execution_count": 3,
   "id": "753aa9a4-21db-40c2-83ea-d6847512c0fd",
   "metadata": {},
   "outputs": [],
   "source": [
    "# Import PySpark\n",
    "from pyspark.sql import SparkSession"
   ]
  },
  {
   "cell_type": "code",
   "execution_count": 4,
   "id": "94692a86-9c98-40ab-858a-706e9e4c9c32",
   "metadata": {},
   "outputs": [
    {
     "name": "stderr",
     "output_type": "stream",
     "text": [
      "Setting default log level to \"WARN\".\n",
      "To adjust logging level use sc.setLogLevel(newLevel). For SparkR, use setLogLevel(newLevel).\n",
      "25/01/26 02:13:40 WARN NativeCodeLoader: Unable to load native-hadoop library for your platform... using builtin-java classes where applicable\n"
     ]
    }
   ],
   "source": [
    "# Create SparkSession\n",
    "spark = SparkSession.builder \\\n",
    "    .appName(\"data-from-json\") \\\n",
    "    .getOrCreate()"
   ]
  },
  {
   "cell_type": "markdown",
   "id": "3bc27baf-0044-4a77-95e8-a3195f8c71ce",
   "metadata": {},
   "source": [
    "## Read Single-line Json file (one doc per line) (jsonl)"
   ]
  },
  {
   "cell_type": "code",
   "execution_count": 9,
   "id": "ec085039-e422-4a52-8fd6-4e23802bf1fa",
   "metadata": {},
   "outputs": [
    {
     "name": "stderr",
     "output_type": "stream",
     "text": [
      "                                                                                "
     ]
    }
   ],
   "source": [
    "data_file_path = \"./data/jsondata.jsonl\"\n",
    "df = spark.read.json(data_file_path)"
   ]
  },
  {
   "cell_type": "code",
   "execution_count": 10,
   "id": "b2071b31-88a1-4aed-ba10-16bd21bf171b",
   "metadata": {},
   "outputs": [
    {
     "name": "stdout",
     "output_type": "stream",
     "text": [
      "root\n",
      " |-- _id: string (nullable = true)\n",
      " |-- address: struct (nullable = true)\n",
      " |    |-- postode: string (nullable = true)\n",
      " |    |-- street: string (nullable = true)\n",
      " |    |-- town: string (nullable = true)\n",
      " |-- description: string (nullable = true)\n",
      " |-- dob: string (nullable = true)\n",
      " |-- email: string (nullable = true)\n",
      " |-- name: string (nullable = true)\n",
      " |-- pets: array (nullable = true)\n",
      " |    |-- element: string (containsNull = true)\n",
      " |-- salary: long (nullable = true)\n",
      " |-- score: double (nullable = true)\n",
      " |-- telephone: string (nullable = true)\n",
      " |-- url: string (nullable = true)\n",
      " |-- verified: boolean (nullable = true)\n",
      "\n"
     ]
    }
   ],
   "source": [
    "df.printSchema()"
   ]
  },
  {
   "cell_type": "code",
   "execution_count": 11,
   "id": "f892be10-ae22-4bba-a76b-62c72a06d58f",
   "metadata": {},
   "outputs": [
    {
     "name": "stderr",
     "output_type": "stream",
     "text": [
      "                                                                                "
     ]
    },
    {
     "name": "stdout",
     "output_type": "stream",
     "text": [
      "+----------------+--------------------+--------------------+----------+--------------------+----------------+------------------+------+-----+-----------------+--------------------+--------+\n",
      "|             _id|             address|         description|       dob|               email|            name|              pets|salary|score|        telephone|                 url|verified|\n",
      "+----------------+--------------------+--------------------+----------+--------------------+----------------+------------------+------+-----+-----------------+--------------------+--------+\n",
      "|8ZDJ7JJPK4LFN2SH|{HR10 1YL, 2568 H...|offer purposes en...|2015-07-02|elissa-bonds@hotm...|     Selena High|   [Romeo, Bailey]| 13628|  1.1|+213-5637-126-628|  http://montana.com|    true|\n",
      "|AQ4LAEZYGPUCKAG9|{SP5 8FR, 3656 Pa...|generated our lan...|2015-11-30|aleshia_marshall@...|  Madalyn Bernal|   [Lilly, Apollo]| 26392|  5.9|+255-4662-982-251|https://volunteer...|   false|\n",
      "|ZS1S800XUJAPX53J|{WC4 0BP, 9270 Wi...|mg charging sharo...|2014-10-16|marline-alarcon@h...|    Demetra Alba|[Midnight, Shadow]| 47107|  8.4|+216-6024-252-842|  http://www.tap.com|   false|\n",
      "|GNMTP3ODG3SR31PX|{TD9 4KF, 9029 O ...|require cameron p...|2014-09-29|lovemessenger@yah...|       Sal Riggs|   [Angel, Harley]| 21190|  5.7| +66-0335-951-687|http://www.brochu...|    true|\n",
      "|87XJDY18USNMRG86|{AL59 1LV, 1809 W...|gambling ensuring...|2018-07-03|leida-carey-elder...|Norberto Pacheco|      [sox, Buddy]| 15901|  1.2| +34-8379-225-249|http://reason.ska...|    true|\n",
      "+----------------+--------------------+--------------------+----------+--------------------+----------------+------------------+------+-----+-----------------+--------------------+--------+\n",
      "only showing top 5 rows\n",
      "\n"
     ]
    }
   ],
   "source": [
    "df.show(5)"
   ]
  },
  {
   "cell_type": "markdown",
   "id": "86b2c19c-9a0b-4da6-8a85-022afa93dca2",
   "metadata": {},
   "source": [
    "## Multi-line JSON"
   ]
  },
  {
   "cell_type": "code",
   "execution_count": 20,
   "id": "4a7856d8-8e0b-4bdc-9246-b06be1b53c30",
   "metadata": {},
   "outputs": [
    {
     "name": "stderr",
     "output_type": "stream",
     "text": [
      "                                                                                "
     ]
    }
   ],
   "source": [
    "data_file_path=\"./data/meteorites.json\"\n",
    "df = spark.read.json(data_file_path, multiLine=True)"
   ]
  },
  {
   "cell_type": "code",
   "execution_count": 21,
   "id": "e571c29d-8b16-4934-b3de-a4f6476996ed",
   "metadata": {},
   "outputs": [
    {
     "name": "stdout",
     "output_type": "stream",
     "text": [
      "root\n",
      " |-- :@computed_region_cbhk_fwbd: string (nullable = true)\n",
      " |-- :@computed_region_nnqa_25f4: string (nullable = true)\n",
      " |-- fall: string (nullable = true)\n",
      " |-- geolocation: struct (nullable = true)\n",
      " |    |-- coordinates: array (nullable = true)\n",
      " |    |    |-- element: double (containsNull = true)\n",
      " |    |-- type: string (nullable = true)\n",
      " |-- id: string (nullable = true)\n",
      " |-- mass: string (nullable = true)\n",
      " |-- name: string (nullable = true)\n",
      " |-- nametype: string (nullable = true)\n",
      " |-- recclass: string (nullable = true)\n",
      " |-- reclat: string (nullable = true)\n",
      " |-- reclong: string (nullable = true)\n",
      " |-- year: string (nullable = true)\n",
      "\n"
     ]
    }
   ],
   "source": [
    "df.printSchema()"
   ]
  },
  {
   "cell_type": "code",
   "execution_count": 22,
   "id": "3ea0854f-61f1-4353-9bb1-2c4c4a09d190",
   "metadata": {},
   "outputs": [
    {
     "name": "stderr",
     "output_type": "stream",
     "text": [
      "[Stage 10:>                                                         (0 + 1) / 1]"
     ]
    },
    {
     "name": "stdout",
     "output_type": "stream",
     "text": [
      "+---------------------------+---------------------------+----+--------------------+---+----+------+--------+--------+---------+--------+--------------------+\n",
      "|:@computed_region_cbhk_fwbd|:@computed_region_nnqa_25f4|fall|         geolocation| id|mass|  name|nametype|recclass|   reclat| reclong|                year|\n",
      "+---------------------------+---------------------------+----+--------------------+---+----+------+--------+--------+---------+--------+--------------------+\n",
      "|                       NULL|                       NULL|Fell|{[6.08333, 50.775...|  1|  21|Aachen|   Valid|      L5|50.775000|6.083330|1880-01-01T00:00:...|\n",
      "+---------------------------+---------------------------+----+--------------------+---+----+------+--------+--------+---------+--------+--------------------+\n",
      "only showing top 1 row\n",
      "\n"
     ]
    },
    {
     "name": "stderr",
     "output_type": "stream",
     "text": [
      "                                                                                "
     ]
    }
   ],
   "source": [
    "df.show(1)"
   ]
  },
  {
   "cell_type": "code",
   "execution_count": 23,
   "id": "3729abf8-3e9b-48ad-a82f-9db16a7b6be4",
   "metadata": {},
   "outputs": [],
   "source": [
    "spark.stop()"
   ]
  },
  {
   "cell_type": "code",
   "execution_count": null,
   "id": "e14fa54b-0939-4298-a321-e3319bff2137",
   "metadata": {},
   "outputs": [],
   "source": []
  }
 ],
 "metadata": {
  "kernelspec": {
   "display_name": "Python 3 (ipykernel)",
   "language": "python",
   "name": "python3"
  },
  "language_info": {
   "codemirror_mode": {
    "name": "ipython",
    "version": 3
   },
   "file_extension": ".py",
   "mimetype": "text/x-python",
   "name": "python",
   "nbconvert_exporter": "python",
   "pygments_lexer": "ipython3",
   "version": "3.9.18"
  }
 },
 "nbformat": 4,
 "nbformat_minor": 5
}
