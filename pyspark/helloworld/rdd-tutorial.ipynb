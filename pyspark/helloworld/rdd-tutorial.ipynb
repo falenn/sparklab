{
 "cells": [
  {
   "cell_type": "markdown",
   "id": "56161b6b-29ef-4e6d-8ca1-1182d5bbbfbd",
   "metadata": {},
   "source": [
    "# RDD - Resiliant Distributed Datasets\n",
    "\n",
    "## Characteristics\n",
    "Immutable\n",
    "Distributed - Spark distributes data for parallel processing via RDD\n",
    "Resilient - liniage tracks transformations done to data for fault tolerance\n",
    "Lazily evaluated - executed after plan\n",
    "fault-tolerant transformations\n",
    "\n",
    "## Transformations\n",
    "Creates new RDDS\n",
    "Lazy eval, lineage graph\n",
    "\n",
    "## Actions\n",
    "Return results or perform actions on RDD, triggering execution\n",
    "Eager evalutation\n",
    "data movement/ computation\n",
    "\n"
   ]
  },
  {
   "cell_type": "code",
   "execution_count": 2,
   "id": "3e9d35de-b283-4c70-be6e-87f81d407a3e",
   "metadata": {},
   "outputs": [],
   "source": [
    "# set env\n",
    "import os\n",
    "os.environ['SPARK_HOME'] = \"/home/cloud_user/apps/spark/current\"\n",
    "os.environ['PYSPARK_DRIVER_PYTHON'] = 'jupyter'\n",
    "os.environ['PYSPARK_DRIVER_PYTHON_OPTS'] = 'lab'\n",
    "os.environ['PYSPARK_PYTHON'] = 'python'"
   ]
  },
  {
   "cell_type": "code",
   "execution_count": 4,
   "id": "431a4ccf-8010-4734-bc40-df0a77e3b5f2",
   "metadata": {},
   "outputs": [],
   "source": [
    "# Import PySpark\n",
    "from pyspark.sql import SparkSession"
   ]
  },
  {
   "cell_type": "code",
   "execution_count": 7,
   "id": "dbd7f506-48dd-4ff1-8d74-b1c32a741b76",
   "metadata": {},
   "outputs": [
    {
     "name": "stderr",
     "output_type": "stream",
     "text": [
      "Setting default log level to \"WARN\".\n",
      "To adjust logging level use sc.setLogLevel(newLevel). For SparkR, use setLogLevel(newLevel).\n",
      "25/01/25 08:01:27 WARN NativeCodeLoader: Unable to load native-hadoop library for your platform... using builtin-java classes where applicable\n",
      "25/01/25 08:01:36 WARN Utils: Service 'SparkUI' could not bind on port 4040. Attempting port 4041.\n"
     ]
    }
   ],
   "source": [
    "# Create SparkSession\n",
    "spark = SparkSession.builder \\\n",
    "    .appName(\"rdd-tutorial\") \\\n",
    "    .getOrCreate()"
   ]
  },
  {
   "cell_type": "markdown",
   "id": "40edbf74-6f07-4cb5-ab7b-76661b8cfc9b",
   "metadata": {},
   "source": [
    "## Create RDD"
   ]
  },
  {
   "cell_type": "code",
   "execution_count": 8,
   "id": "0949339e-62fd-4818-8f38-aec0e4a31ce8",
   "metadata": {},
   "outputs": [],
   "source": [
    "numbers = [1,2,3,4,5]\n",
    "rdd = spark.sparkContext.parallelize(numbers)"
   ]
  },
  {
   "cell_type": "code",
   "execution_count": 10,
   "id": "55656f02-a44a-4d5f-aebc-11bd9963f71e",
   "metadata": {},
   "outputs": [
    {
     "name": "stderr",
     "output_type": "stream",
     "text": [
      "                                                                                "
     ]
    },
    {
     "data": {
      "text/plain": [
       "[1, 2, 3, 4, 5]"
      ]
     },
     "execution_count": 10,
     "metadata": {},
     "output_type": "execute_result"
    }
   ],
   "source": [
    "# Collect Action: retrieve all elements of the RDD\n",
    "rdd.collect()"
   ]
  },
  {
   "cell_type": "code",
   "execution_count": 33,
   "id": "08380356-c4e0-46c5-bad8-f16565c839ef",
   "metadata": {},
   "outputs": [],
   "source": [
    "data = [(\"Alice\", 25),(\"Bob\", 30),(\"Charlie\",35),(\"Fred\",33),(\"Alice\",20)]\n",
    "rdd = spark.sparkContext.parallelize(data)"
   ]
  },
  {
   "cell_type": "code",
   "execution_count": 34,
   "id": "aa2c1cb4-92eb-4a4d-b9b0-6cd2685cfc43",
   "metadata": {},
   "outputs": [
    {
     "name": "stdout",
     "output_type": "stream",
     "text": [
      "All elements of the rdd: [('Alice', 25), ('Bob', 30), ('Charlie', 35), ('Fred', 33), ('Alice', 20)]\n"
     ]
    }
   ],
   "source": [
    "print(f\"All elements of the rdd: {rdd.collect()}\")"
   ]
  },
  {
   "cell_type": "markdown",
   "id": "8a8e4154-e7e9-4f10-a84f-5039f33d8afe",
   "metadata": {},
   "source": [
    "## RDD Actions"
   ]
  },
  {
   "cell_type": "code",
   "execution_count": 35,
   "id": "354a6bff-6cbf-44aa-a6a9-15103c927afb",
   "metadata": {},
   "outputs": [
    {
     "name": "stdout",
     "output_type": "stream",
     "text": [
      "The total number of elements in the rdd: 5\n"
     ]
    }
   ],
   "source": [
    "# Count action: Count number of elements in an RDD\n",
    "count = rdd.count()\n",
    "print(f\"The total number of elements in the rdd: {count}\")"
   ]
  },
  {
   "cell_type": "code",
   "execution_count": 36,
   "id": "c7930eb4-be8c-4a1a-b234-0d119c132058",
   "metadata": {},
   "outputs": [
    {
     "name": "stdout",
     "output_type": "stream",
     "text": [
      "The first element in the RDD: ('Alice', 25)\n"
     ]
    }
   ],
   "source": [
    "# First action: returns the first item in the RDD\n",
    "first = rdd.first()\n",
    "print(f\"The first element in the RDD: {first}\")"
   ]
  },
  {
   "cell_type": "code",
   "execution_count": 37,
   "id": "785f85b8-7a38-40cc-bab2-4528ea8cbb90",
   "metadata": {},
   "outputs": [
    {
     "name": "stdout",
     "output_type": "stream",
     "text": [
      "Taken elements: [('Alice', 25), ('Bob', 30)]\n"
     ]
    }
   ],
   "source": [
    "# Take action: Take specified amount of elements from the RDD starting from the front\n",
    "taken = rdd.take(2)\n",
    "print(f\"Taken elements: {taken}\")"
   ]
  },
  {
   "cell_type": "code",
   "execution_count": 38,
   "id": "7c17b70a-bb58-42c9-a708-cc17928b9c20",
   "metadata": {},
   "outputs": [
    {
     "name": "stderr",
     "output_type": "stream",
     "text": [
      "Item: ('Alice', 25)\n",
      "Item: ('Bob', 30)\n",
      "Item: ('Charlie', 35)\n",
      "Item: ('Fred', 33)\n",
      "Item: ('Alice', 20)\n"
     ]
    }
   ],
   "source": [
    "# Foreach action: Lets us call a function on each element of the RDD\n",
    "rdd.foreach(lambda x: print(f\"Item: {x}\"))"
   ]
  },
  {
   "cell_type": "markdown",
   "id": "eed3379b-b0a8-440c-b4de-61ea2cfc4317",
   "metadata": {},
   "source": [
    "## RDD Transformations"
   ]
  },
  {
   "cell_type": "code",
   "execution_count": 39,
   "id": "c44abca0-c6a1-4123-a4e4-0f43859eefe2",
   "metadata": {},
   "outputs": [],
   "source": [
    "# Map transformation: Convert name to uppercase\n",
    "# remember, transformations are lasy and only execute when driven by actions.\n",
    "mapped_rdd = rdd.map(lambda x: (x[0].upper(), x[1]))"
   ]
  },
  {
   "cell_type": "code",
   "execution_count": 40,
   "id": "0fe50c5f-ec6d-4fe5-8c0e-c76cb9696026",
   "metadata": {},
   "outputs": [
    {
     "name": "stdout",
     "output_type": "stream",
     "text": [
      "RDD with uppercase transform: [('ALICE', 25), ('BOB', 30), ('CHARLIE', 35), ('FRED', 33), ('ALICE', 20)]\n"
     ]
    }
   ],
   "source": [
    "result = mapped_rdd.collect()\n",
    "print(f\"RDD with uppercase transform: {result}\")"
   ]
  },
  {
   "cell_type": "code",
   "execution_count": 41,
   "id": "9c010106-d835-4680-bb00-fb00331b6671",
   "metadata": {},
   "outputs": [],
   "source": [
    "# Filter transformation: filter elements based on a condition\n",
    "filter_gt_30 = rdd.filter(lambda x: x[1] > 30)"
   ]
  },
  {
   "cell_type": "code",
   "execution_count": 43,
   "id": "bf2f19a2-d14a-427f-8c25-fd1b8cfd02b2",
   "metadata": {},
   "outputs": [
    {
     "name": "stdout",
     "output_type": "stream",
     "text": [
      "RDD filtered age greater than 30: [('Charlie', 35), ('Fred', 33)]\n"
     ]
    }
   ],
   "source": [
    "result = filter_gt_30.collect()\n",
    "print(f\"RDD filtered age greater than 30: {result}\")"
   ]
  },
  {
   "cell_type": "code",
   "execution_count": 46,
   "id": "19168cdb-66a3-4853-a2d7-160bab83f5e5",
   "metadata": {},
   "outputs": [],
   "source": [
    "# reduceByKey transformation: groups by and reduces by lambda function\n",
    "reduced_rdd = rdd.reduceByKey(lambda x, y: x + y)"
   ]
  },
  {
   "cell_type": "code",
   "execution_count": 47,
   "id": "62c9a082-baf8-43ec-96df-3c0698fd2ca9",
   "metadata": {},
   "outputs": [
    {
     "name": "stdout",
     "output_type": "stream",
     "text": [
      "Total Age of RDD: [('Fred', 33), ('Alice', 45), ('Bob', 30), ('Charlie', 35)]\n"
     ]
    }
   ],
   "source": [
    "result = reduced_rdd.collect()\n",
    "print(f\"Total Age of RDD: {result}\")"
   ]
  },
  {
   "cell_type": "code",
   "execution_count": 48,
   "id": "69af9c38-8cfa-4765-8a63-07b79ad2a43e",
   "metadata": {},
   "outputs": [],
   "source": [
    "# sortby transformation: Sort the RDD by age in descending order\n",
    "sorted_rdd = rdd.sortBy(lambda x: x[1], ascending=False)\n",
    "result = sorted_rdd.collect()"
   ]
  },
  {
   "cell_type": "code",
   "execution_count": 49,
   "id": "b88f04a6-d3ca-4ca3-abca-cf0e5eec1d22",
   "metadata": {},
   "outputs": [
    {
     "name": "stdout",
     "output_type": "stream",
     "text": [
      "Sorted RDD: [('Charlie', 35), ('Fred', 33), ('Bob', 30), ('Alice', 25), ('Alice', 20)]\n"
     ]
    }
   ],
   "source": [
    "print(f\"Sorted RDD: {result}\")"
   ]
  },
  {
   "cell_type": "markdown",
   "id": "73ee6743-70d2-4ff3-b992-5d2edbea22b9",
   "metadata": {},
   "source": [
    "## Save RDD to textfile and Read from Textfile"
   ]
  },
  {
   "cell_type": "code",
   "execution_count": 51,
   "id": "dae0f4b1-2536-4b1a-921e-38ea84224345",
   "metadata": {},
   "outputs": [],
   "source": [
    "# Save action\n",
    "rdd.saveAsTextFile(\"data/rdd-lab-output.txt\")"
   ]
  },
  {
   "cell_type": "code",
   "execution_count": 56,
   "id": "7be3590a-4ffa-4752-904c-461daf827499",
   "metadata": {},
   "outputs": [
    {
     "name": "stdout",
     "output_type": "stream",
     "text": [
      "First element of text file: ('Charlie', 35)\n"
     ]
    }
   ],
   "source": [
    "# Read action\n",
    "rdd_text = spark.sparkContext.textFile(\"data/rdd-lab-output.txt\")\n",
    "print(f\"First element of text file: {rdd_text.first()}\")"
   ]
  },
  {
   "cell_type": "code",
   "execution_count": 57,
   "id": "8730811a-82a2-4193-b92c-278fee29afe4",
   "metadata": {},
   "outputs": [
    {
     "name": "stdout",
     "output_type": "stream",
     "text": [
      "All elements of text file: [\"('Charlie', 35)\", \"('Fred', 33)\", \"('Alice', 20)\", \"('Alice', 25)\", \"('Bob', 30)\"]\n"
     ]
    }
   ],
   "source": [
    "print(f\"All elements of text file: {rdd_text.collect()}\")"
   ]
  },
  {
   "cell_type": "markdown",
   "id": "d70383ea-9958-4e46-b062-b6f90ce64795",
   "metadata": {},
   "source": [
    "## Shutdown"
   ]
  },
  {
   "cell_type": "code",
   "execution_count": 58,
   "id": "0367d23e-5898-4902-ad02-b3f42eca25ee",
   "metadata": {},
   "outputs": [],
   "source": [
    "spark.stop()"
   ]
  },
  {
   "cell_type": "code",
   "execution_count": null,
   "id": "bc3ec13f-5f7b-4b02-9d3d-a2a0027217b1",
   "metadata": {},
   "outputs": [],
   "source": []
  }
 ],
 "metadata": {
  "kernelspec": {
   "display_name": "Python 3 (ipykernel)",
   "language": "python",
   "name": "python3"
  },
  "language_info": {
   "codemirror_mode": {
    "name": "ipython",
    "version": 3
   },
   "file_extension": ".py",
   "mimetype": "text/x-python",
   "name": "python",
   "nbconvert_exporter": "python",
   "pygments_lexer": "ipython3",
   "version": "3.9.18"
  }
 },
 "nbformat": 4,
 "nbformat_minor": 5
}
