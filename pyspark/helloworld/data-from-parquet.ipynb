{
 "cells": [
  {
   "cell_type": "code",
   "execution_count": 1,
   "id": "d25e2d35-a947-4517-a219-28c64b0dfed7",
   "metadata": {},
   "outputs": [],
   "source": [
    "# set env\n",
    "import os\n",
    "os.environ['SPARK_HOME'] = \"/home/cloud_user/apps/spark/current\"\n",
    "os.environ['PYSPARK_DRIVER_PYTHON'] = 'jupyter'\n",
    "os.environ['PYSPARK_DRIVER_PYTHON_OPTS'] = 'lab'\n",
    "os.environ['PYSPARK_PYTHON'] = 'python'"
   ]
  },
  {
   "cell_type": "code",
   "execution_count": 2,
   "id": "b0ec9dc6-8a43-4a4a-b32a-04d2e9cc5df2",
   "metadata": {},
   "outputs": [],
   "source": [
    "# Import PySpark\n",
    "from pyspark.sql import SparkSession"
   ]
  },
  {
   "cell_type": "code",
   "execution_count": 3,
   "id": "c94c7d5e-ff67-4d1e-bdd7-1c4f526c3483",
   "metadata": {},
   "outputs": [
    {
     "name": "stderr",
     "output_type": "stream",
     "text": [
      "Setting default log level to \"WARN\".\n",
      "To adjust logging level use sc.setLogLevel(newLevel). For SparkR, use setLogLevel(newLevel).\n",
      "25/01/26 02:47:35 WARN NativeCodeLoader: Unable to load native-hadoop library for your platform... using builtin-java classes where applicable\n",
      "25/01/26 02:48:00 WARN Utils: Service 'SparkUI' could not bind on port 4040. Attempting port 4041.\n"
     ]
    }
   ],
   "source": [
    "# Create SparkSession\n",
    "spark = SparkSession.builder \\\n",
    "    .appName(\"data-from-parquet\") \\\n",
    "    .getOrCreate()"
   ]
  },
  {
   "cell_type": "code",
   "execution_count": 7,
   "id": "d78bf283-f8ab-4405-9f9a-ff08e6240fa5",
   "metadata": {},
   "outputs": [
    {
     "name": "stderr",
     "output_type": "stream",
     "text": [
      "                                                                                "
     ]
    }
   ],
   "source": [
    "# Write dataframe from JSON into Parquet\n",
    "json_file_path = \"./data/meteorites.json\"\n",
    "df = spark.read.json(json_file_path, multiLine=True)"
   ]
  },
  {
   "cell_type": "code",
   "execution_count": 8,
   "id": "5bad986b-723b-414b-9b08-f78b95be4098",
   "metadata": {},
   "outputs": [
    {
     "name": "stderr",
     "output_type": "stream",
     "text": [
      "                                                                                "
     ]
    }
   ],
   "source": [
    "# Save to Parquet\n",
    "parquet_file_path = \"./data/parquet/jsondata.parquet\"\n",
    "df.write.parquet(parquet_file_path)"
   ]
  },
  {
   "cell_type": "code",
   "execution_count": 9,
   "id": "80176aa0-b8b4-47fe-9142-5abc6238103e",
   "metadata": {},
   "outputs": [
    {
     "name": "stderr",
     "output_type": "stream",
     "text": [
      "                                                                                "
     ]
    }
   ],
   "source": [
    "# Read in from Parquet\n",
    "df = spark.read.parquet(parquet_file_path)"
   ]
  },
  {
   "cell_type": "code",
   "execution_count": 10,
   "id": "10d640f1-3bd1-4a36-a471-42533b074e43",
   "metadata": {},
   "outputs": [
    {
     "name": "stdout",
     "output_type": "stream",
     "text": [
      "root\n",
      " |-- :@computed_region_cbhk_fwbd: string (nullable = true)\n",
      " |-- :@computed_region_nnqa_25f4: string (nullable = true)\n",
      " |-- fall: string (nullable = true)\n",
      " |-- geolocation: struct (nullable = true)\n",
      " |    |-- coordinates: array (nullable = true)\n",
      " |    |    |-- element: double (containsNull = true)\n",
      " |    |-- type: string (nullable = true)\n",
      " |-- id: string (nullable = true)\n",
      " |-- mass: string (nullable = true)\n",
      " |-- name: string (nullable = true)\n",
      " |-- nametype: string (nullable = true)\n",
      " |-- recclass: string (nullable = true)\n",
      " |-- reclat: string (nullable = true)\n",
      " |-- reclong: string (nullable = true)\n",
      " |-- year: string (nullable = true)\n",
      "\n"
     ]
    }
   ],
   "source": [
    "df.printSchema()"
   ]
  },
  {
   "cell_type": "code",
   "execution_count": 11,
   "id": "6275011d-99b9-4b56-b647-9712664302bc",
   "metadata": {},
   "outputs": [
    {
     "name": "stderr",
     "output_type": "stream",
     "text": [
      "                                                                                "
     ]
    },
    {
     "name": "stdout",
     "output_type": "stream",
     "text": [
      "+---------------------------+---------------------------+----+--------------------+---+----+------+--------+--------+---------+---------+--------------------+\n",
      "|:@computed_region_cbhk_fwbd|:@computed_region_nnqa_25f4|fall|         geolocation| id|mass|  name|nametype|recclass|   reclat|  reclong|                year|\n",
      "+---------------------------+---------------------------+----+--------------------+---+----+------+--------+--------+---------+---------+--------------------+\n",
      "|                       NULL|                       NULL|Fell|{[6.08333, 50.775...|  1|  21|Aachen|   Valid|      L5|50.775000| 6.083330|1880-01-01T00:00:...|\n",
      "|                       NULL|                       NULL|Fell|{[10.23333, 56.18...|  2| 720|Aarhus|   Valid|      H6|56.183330|10.233330|1951-01-01T00:00:...|\n",
      "+---------------------------+---------------------------+----+--------------------+---+----+------+--------+--------+---------+---------+--------------------+\n",
      "only showing top 2 rows\n",
      "\n"
     ]
    }
   ],
   "source": [
    "df.show(2)"
   ]
  },
  {
   "cell_type": "code",
   "execution_count": 12,
   "id": "2d6d84ea-a6da-4595-9f27-c5dd2204317c",
   "metadata": {},
   "outputs": [],
   "source": [
    "spark.stop()"
   ]
  },
  {
   "cell_type": "code",
   "execution_count": null,
   "id": "123e8ce5-4fae-46e9-be7e-a6e42a5db6e1",
   "metadata": {},
   "outputs": [],
   "source": []
  }
 ],
 "metadata": {
  "kernelspec": {
   "display_name": "Python 3 (ipykernel)",
   "language": "python",
   "name": "python3"
  },
  "language_info": {
   "codemirror_mode": {
    "name": "ipython",
    "version": 3
   },
   "file_extension": ".py",
   "mimetype": "text/x-python",
   "name": "python",
   "nbconvert_exporter": "python",
   "pygments_lexer": "ipython3",
   "version": "3.9.18"
  }
 },
 "nbformat": 4,
 "nbformat_minor": 5
}
