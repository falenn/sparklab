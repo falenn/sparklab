{
 "cells": [
  {
   "cell_type": "code",
   "execution_count": 1,
   "id": "54687667-2b71-4ee0-a477-221d5dbfa0f0",
   "metadata": {},
   "outputs": [],
   "source": [
    "# set env\n",
    "import os\n",
    "os.environ['SPARK_HOME'] = \"/home/cloud_user/apps/spark/current\"\n",
    "os.environ['PYSPARK_DRIVER_PYTHON'] = 'jupyter'\n",
    "os.environ['PYSPARK_DRIVER_PYTHON_OPTS'] = 'lab'\n",
    "os.environ['PYSPARK_PYTHON'] = 'python'"
   ]
  },
  {
   "cell_type": "code",
   "execution_count": 2,
   "id": "8c259e36-a939-4acc-9cda-9f9b78a16472",
   "metadata": {},
   "outputs": [],
   "source": [
    "# Import PySpark\n",
    "from pyspark.sql import SparkSession"
   ]
  },
  {
   "cell_type": "code",
   "execution_count": 3,
   "id": "faf8e1cd-f414-490d-b257-bac42b1349de",
   "metadata": {},
   "outputs": [
    {
     "name": "stderr",
     "output_type": "stream",
     "text": [
      "Setting default log level to \"WARN\".\n",
      "To adjust logging level use sc.setLogLevel(newLevel). For SparkR, use setLogLevel(newLevel).\n",
      "25/01/26 03:59:01 WARN NativeCodeLoader: Unable to load native-hadoop library for your platform... using builtin-java classes where applicable\n"
     ]
    }
   ],
   "source": [
    "# Create SparkSession\n",
    "spark = SparkSession.builder \\\n",
    "    .appName(\"dataframe-operations\") \\\n",
    "    .getOrCreate()"
   ]
  },
  {
   "cell_type": "code",
   "execution_count": 4,
   "id": "f2c6f5d9-91ba-4629-a1d1-a76510540aec",
   "metadata": {},
   "outputs": [
    {
     "name": "stderr",
     "output_type": "stream",
     "text": [
      "                                                                                "
     ]
    }
   ],
   "source": [
    "data_file_path = \"./data/products.csv\"\n",
    "df = spark.read.csv(data_file_path, header=True, inferSchema=True)"
   ]
  },
  {
   "cell_type": "code",
   "execution_count": 6,
   "id": "e674183b-f632-4bcd-811d-89891dd1f061",
   "metadata": {},
   "outputs": [
    {
     "name": "stdout",
     "output_type": "stream",
     "text": [
      "root\n",
      " |-- id: integer (nullable = true)\n",
      " |-- name: string (nullable = true)\n",
      " |-- category: string (nullable = true)\n",
      " |-- quantity: integer (nullable = true)\n",
      " |-- price: double (nullable = true)\n",
      "\n"
     ]
    },
    {
     "name": "stderr",
     "output_type": "stream",
     "text": [
      "                                                                                "
     ]
    },
    {
     "name": "stdout",
     "output_type": "stream",
     "text": [
      "+---+---------+-----------+--------+------+\n",
      "| id|     name|   category|quantity| price|\n",
      "+---+---------+-----------+--------+------+\n",
      "|  1|iPhone 12|Electronics|      10|899.99|\n",
      "+---+---------+-----------+--------+------+\n",
      "only showing top 1 row\n",
      "\n"
     ]
    }
   ],
   "source": [
    "# Display the schema\n",
    "df.printSchema()\n",
    "\n",
    "# get sample record\n",
    "df.show(1)"
   ]
  },
  {
   "cell_type": "markdown",
   "id": "efffa644-1be2-4fcf-a381-dd4f6318bee6",
   "metadata": {},
   "source": [
    "## Choose Specific Columns"
   ]
  },
  {
   "cell_type": "code",
   "execution_count": 7,
   "id": "8f14c036-9cf0-40cb-8c37-a732f5cab75c",
   "metadata": {},
   "outputs": [
    {
     "name": "stdout",
     "output_type": "stream",
     "text": [
      "Selected Columns:\n"
     ]
    },
    {
     "name": "stderr",
     "output_type": "stream",
     "text": [
      "                                                                                "
     ]
    },
    {
     "name": "stdout",
     "output_type": "stream",
     "text": [
      "+---+---------------+------+\n",
      "| id|           name| price|\n",
      "+---+---------------+------+\n",
      "|  1|      iPhone 12|899.99|\n",
      "|  2|Nike Air max 90|119.99|\n",
      "+---+---------------+------+\n",
      "only showing top 2 rows\n",
      "\n"
     ]
    }
   ],
   "source": [
    "# Select specific Columns\n",
    "selected_columns = df.select(\"id\",\"name\",\"price\")\n",
    "print(\"Selected Columns:\")\n",
    "selected_columns.show(2)"
   ]
  },
  {
   "cell_type": "markdown",
   "id": "39c75056-211d-430c-a434-a21dbfc3320c",
   "metadata": {},
   "source": [
    "## Filter Rows"
   ]
  },
  {
   "cell_type": "code",
   "execution_count": 8,
   "id": "06d3ce9a-ad98-4230-a7a7-ae4540c034f8",
   "metadata": {},
   "outputs": [
    {
     "name": "stderr",
     "output_type": "stream",
     "text": [
      "                                                                                "
     ]
    },
    {
     "name": "stdout",
     "output_type": "stream",
     "text": [
      "Greater than 20: 4\n"
     ]
    },
    {
     "name": "stderr",
     "output_type": "stream",
     "text": [
      "                                                                                "
     ]
    },
    {
     "name": "stdout",
     "output_type": "stream",
     "text": [
      "+---+--------------------+--------+--------+------+\n",
      "| id|                name|category|quantity| price|\n",
      "+---+--------------------+--------+--------+------+\n",
      "|  2|     Nike Air max 90|Clothing|      25|119.99|\n",
      "|  4|    The Great Gatsby|   Books|      50| 12.99|\n",
      "|  5|L'Oreal Paris Mas...|  Beauty|     100|  9.99|\n",
      "|  6|            Yoga Mat|  Sports|      30| 29.99|\n",
      "+---+--------------------+--------+--------+------+\n",
      "\n"
     ]
    }
   ],
   "source": [
    "# only fetch records where quantity > 20\n",
    "filtered_data = df.filter(df.quantity > 20)\n",
    "print(f\"Greater than 20: {filtered_data.count()}\")\n",
    "filtered_data.show()"
   ]
  },
  {
   "cell_type": "markdown",
   "id": "86875c12-a204-4d04-a637-943b93170356",
   "metadata": {},
   "source": [
    "## Grouping and Aggregation"
   ]
  },
  {
   "cell_type": "code",
   "execution_count": 10,
   "id": "fa9f5116-f1be-4c6b-a166-23589f3a819f",
   "metadata": {},
   "outputs": [
    {
     "name": "stdout",
     "output_type": "stream",
     "text": [
      "Grouped and Aggregated data:\n"
     ]
    },
    {
     "name": "stderr",
     "output_type": "stream",
     "text": [
      "                                                                                "
     ]
    },
    {
     "name": "stdout",
     "output_type": "stream",
     "text": [
      "+---------------+-------------+-----------------+\n",
      "|       category|sum(quantity)|       avg(price)|\n",
      "+---------------+-------------+-----------------+\n",
      "|         Sports|           30|            29.99|\n",
      "|    Electronics|           22|799.9900000000001|\n",
      "|       Clothing|           40|            84.99|\n",
      "|          Books|           50|            12.99|\n",
      "|Home Appliances|            8|           349.99|\n",
      "|         Beauty|          100|             9.99|\n",
      "|           Toys|           12|          275.485|\n",
      "+---------------+-------------+-----------------+\n",
      "\n"
     ]
    }
   ],
   "source": [
    "# GroupBy and Aggregate\n",
    "grouped_data = df.groupBy(\"category\").agg({\"quantity\":\"sum\", \"price\":\"avg\"})\n",
    "print(\"Grouped and Aggregated data:\")\n",
    "grouped_data.show()"
   ]
  },
  {
   "cell_type": "markdown",
   "id": "e7024b11-b8e5-44cd-8eb9-5ca58b4845a3",
   "metadata": {},
   "source": [
    "## Join Dataframe"
   ]
  },
  {
   "cell_type": "code",
   "execution_count": 11,
   "id": "040c4762-9e8d-4ecc-97ee-9d21a17d8eec",
   "metadata": {},
   "outputs": [
    {
     "name": "stdout",
     "output_type": "stream",
     "text": [
      "Joined Data:\n"
     ]
    },
    {
     "name": "stderr",
     "output_type": "stream",
     "text": [
      "                                                                                "
     ]
    },
    {
     "name": "stdout",
     "output_type": "stream",
     "text": [
      "+---+--------------------+---------------+--------+------+---------------+\n",
      "| id|                name|       category|quantity| price|       category|\n",
      "+---+--------------------+---------------+--------+------+---------------+\n",
      "|  1|           iPhone 12|    Electronics|      10|899.99|    Electronics|\n",
      "|  2|     Nike Air max 90|       Clothing|      25|119.99|       Clothing|\n",
      "|  3|KitchenAid Stand ...|Home Appliances|       5|299.99|Home Appliances|\n",
      "|  4|    The Great Gatsby|          Books|      50| 12.99|          Books|\n",
      "|  5|L'Oreal Paris Mas...|         Beauty|     100|  9.99|         Beauty|\n",
      "|  6|            Yoga Mat|         Sports|      30| 29.99|         Sports|\n",
      "|  7| Samsung 4k Smart TV|    Electronics|       8|799.99|    Electronics|\n",
      "|  8|        Levi's Jeans|       Clothing|      15| 49.99|       Clothing|\n",
      "|  9|Dyson Vacuum Cleaner|Home Appliances|       3|399.99|Home Appliances|\n",
      "| 10|  Google Pixel 8 Pro|    Electronics|       4|699.99|    Electronics|\n",
      "+---+--------------------+---------------+--------+------+---------------+\n",
      "\n"
     ]
    }
   ],
   "source": [
    "# Join based on columns - create a new dataframe (to represent other data) and join on id\n",
    "df2 = df.select(\"id\", \"category\").limit(10)\n",
    "joined_data = df.join(df2, \"id\", \"inner\")\n",
    "print(\"Joined Data:\")\n",
    "joined_data.show()"
   ]
  },
  {
   "cell_type": "markdown",
   "id": "d27afcfd-9b62-48b8-a19e-6bbb284e9854",
   "metadata": {},
   "source": [
    "## Sorting Data"
   ]
  },
  {
   "cell_type": "code",
   "execution_count": 12,
   "id": "ce962e23-0f3b-4b53-99c0-b98b24b39aba",
   "metadata": {},
   "outputs": [
    {
     "name": "stdout",
     "output_type": "stream",
     "text": [
      "Sorted Data by price:\n"
     ]
    },
    {
     "name": "stderr",
     "output_type": "stream",
     "text": [
      "[Stage 15:>                                                         (0 + 1) / 1]"
     ]
    },
    {
     "name": "stdout",
     "output_type": "stream",
     "text": [
      "+---+--------------------+---------------+--------+------+\n",
      "| id|                name|       category|quantity| price|\n",
      "+---+--------------------+---------------+--------+------+\n",
      "|  5|L'Oreal Paris Mas...|         Beauty|     100|  9.99|\n",
      "|  4|    The Great Gatsby|          Books|      50| 12.99|\n",
      "|  6|            Yoga Mat|         Sports|      30| 29.99|\n",
      "|  8|        Levi's Jeans|       Clothing|      15| 49.99|\n",
      "| 11|    Darth Vader Lego|           Toys|      10| 49.99|\n",
      "|  2|     Nike Air max 90|       Clothing|      25|119.99|\n",
      "|  3|KitchenAid Stand ...|Home Appliances|       5|299.99|\n",
      "|  9|Dyson Vacuum Cleaner|Home Appliances|       3|399.99|\n",
      "| 12|       Colosium Lego|           Toys|       2|500.98|\n",
      "| 10|  Google Pixel 8 Pro|    Electronics|       4|699.99|\n",
      "|  7| Samsung 4k Smart TV|    Electronics|       8|799.99|\n",
      "|  1|           iPhone 12|    Electronics|      10|899.99|\n",
      "+---+--------------------+---------------+--------+------+\n",
      "\n"
     ]
    },
    {
     "name": "stderr",
     "output_type": "stream",
     "text": [
      "                                                                                "
     ]
    }
   ],
   "source": [
    "# Sort by a column\n",
    "sorted_data = df.orderBy(\"price\")\n",
    "print(\"Sorted Data by price:\")\n",
    "sorted_data.show()"
   ]
  },
  {
   "cell_type": "code",
   "execution_count": 13,
   "id": "ab4f4ecc-48e2-4bdf-84db-30a8dafc6244",
   "metadata": {},
   "outputs": [
    {
     "name": "stdout",
     "output_type": "stream",
     "text": [
      "Sorted Data by Price Desc\n"
     ]
    },
    {
     "name": "stderr",
     "output_type": "stream",
     "text": [
      "                                                                                "
     ]
    },
    {
     "name": "stdout",
     "output_type": "stream",
     "text": [
      "+---+--------------------+---------------+--------+------+\n",
      "| id|                name|       category|quantity| price|\n",
      "+---+--------------------+---------------+--------+------+\n",
      "|  1|           iPhone 12|    Electronics|      10|899.99|\n",
      "|  7| Samsung 4k Smart TV|    Electronics|       8|799.99|\n",
      "| 10|  Google Pixel 8 Pro|    Electronics|       4|699.99|\n",
      "| 12|       Colosium Lego|           Toys|       2|500.98|\n",
      "|  9|Dyson Vacuum Cleaner|Home Appliances|       3|399.99|\n",
      "|  3|KitchenAid Stand ...|Home Appliances|       5|299.99|\n",
      "|  2|     Nike Air max 90|       Clothing|      25|119.99|\n",
      "| 11|    Darth Vader Lego|           Toys|      10| 49.99|\n",
      "|  8|        Levi's Jeans|       Clothing|      15| 49.99|\n",
      "|  6|            Yoga Mat|         Sports|      30| 29.99|\n",
      "|  4|    The Great Gatsby|          Books|      50| 12.99|\n",
      "|  5|L'Oreal Paris Mas...|         Beauty|     100|  9.99|\n",
      "+---+--------------------+---------------+--------+------+\n",
      "\n"
     ]
    }
   ],
   "source": [
    "# Sort by a column Desc\n",
    "from pyspark.sql.functions import col, desc\n",
    "sorted_data = df.orderBy(col(\"price\").desc(), col(\"id\").desc())\n",
    "print(\"Sorted Data by Price Desc\")\n",
    "sorted_data.show()"
   ]
  },
  {
   "cell_type": "markdown",
   "id": "8e89ff67-7487-4c7c-b357-41ad83eda8fd",
   "metadata": {},
   "source": [
    "## Get Unique Rows"
   ]
  },
  {
   "cell_type": "code",
   "execution_count": 14,
   "id": "46f5d318-4b67-4bd1-b43e-0ead568f3f0c",
   "metadata": {},
   "outputs": [
    {
     "name": "stdout",
     "output_type": "stream",
     "text": [
      "Distinct categories:\n"
     ]
    },
    {
     "name": "stderr",
     "output_type": "stream",
     "text": [
      "[Stage 19:>                                                         (0 + 1) / 1]"
     ]
    },
    {
     "name": "stdout",
     "output_type": "stream",
     "text": [
      "+---------------+\n",
      "|       category|\n",
      "+---------------+\n",
      "|         Sports|\n",
      "|    Electronics|\n",
      "|       Clothing|\n",
      "|          Books|\n",
      "|Home Appliances|\n",
      "|         Beauty|\n",
      "|           Toys|\n",
      "+---------------+\n",
      "\n"
     ]
    },
    {
     "name": "stderr",
     "output_type": "stream",
     "text": [
      "                                                                                "
     ]
    }
   ],
   "source": [
    "# Get distinct \n",
    "distinct_categories = df.select(\"category\").distinct()\n",
    "print(\"Distinct categories:\")\n",
    "distinct_categories.show()"
   ]
  },
  {
   "cell_type": "markdown",
   "id": "559016c8-245b-43ee-ab44-3272bddc3fb3",
   "metadata": {},
   "source": [
    "## Dropping Columns"
   ]
  },
  {
   "cell_type": "code",
   "execution_count": 15,
   "id": "135a9039-4518-41f8-9007-f3fc2791c598",
   "metadata": {},
   "outputs": [
    {
     "name": "stdout",
     "output_type": "stream",
     "text": [
      "Dropped Columns\n"
     ]
    },
    {
     "name": "stderr",
     "output_type": "stream",
     "text": [
      "                                                                                "
     ]
    },
    {
     "name": "stdout",
     "output_type": "stream",
     "text": [
      "+---+--------------------+------+\n",
      "| id|                name| price|\n",
      "+---+--------------------+------+\n",
      "|  1|           iPhone 12|899.99|\n",
      "|  2|     Nike Air max 90|119.99|\n",
      "|  3|KitchenAid Stand ...|299.99|\n",
      "|  4|    The Great Gatsby| 12.99|\n",
      "|  5|L'Oreal Paris Mas...|  9.99|\n",
      "|  6|            Yoga Mat| 29.99|\n",
      "|  7| Samsung 4k Smart TV|799.99|\n",
      "|  8|        Levi's Jeans| 49.99|\n",
      "|  9|Dyson Vacuum Cleaner|399.99|\n",
      "| 10|  Google Pixel 8 Pro|699.99|\n",
      "| 11|    Darth Vader Lego| 49.99|\n",
      "| 12|       Colosium Lego|500.98|\n",
      "+---+--------------------+------+\n",
      "\n"
     ]
    }
   ],
   "source": [
    "# Drop a column\n",
    "dropped_columns = df.drop(\"quantity\",\"category\")\n",
    "print(\"Dropped Columns\")\n",
    "dropped_columns.show()"
   ]
  },
  {
   "cell_type": "markdown",
   "id": "6f2db26b-1944-4061-aba4-10374218df3f",
   "metadata": {},
   "source": [
    "## WithColumn - Add new calculated columns"
   ]
  },
  {
   "cell_type": "code",
   "execution_count": 18,
   "id": "cf7de005-8287-4f61-9139-fb00dd941deb",
   "metadata": {},
   "outputs": [
    {
     "name": "stdout",
     "output_type": "stream",
     "text": [
      "DataFrame with Revenue Column\n"
     ]
    },
    {
     "name": "stderr",
     "output_type": "stream",
     "text": [
      "                                                                                "
     ]
    },
    {
     "name": "stdout",
     "output_type": "stream",
     "text": [
      "+---+--------------------+---------------+--------+------+------------------+\n",
      "| id|                name|       category|quantity| price|           revenue|\n",
      "+---+--------------------+---------------+--------+------+------------------+\n",
      "|  1|           iPhone 12|    Electronics|      10|899.99|            8999.9|\n",
      "|  7| Samsung 4k Smart TV|    Electronics|       8|799.99|           6399.92|\n",
      "|  2|     Nike Air max 90|       Clothing|      25|119.99|           2999.75|\n",
      "| 10|  Google Pixel 8 Pro|    Electronics|       4|699.99|           2799.96|\n",
      "|  3|KitchenAid Stand ...|Home Appliances|       5|299.99|           1499.95|\n",
      "|  9|Dyson Vacuum Cleaner|Home Appliances|       3|399.99|           1199.97|\n",
      "| 12|       Colosium Lego|           Toys|       2|500.98|           1001.96|\n",
      "|  5|L'Oreal Paris Mas...|         Beauty|     100|  9.99|             999.0|\n",
      "|  6|            Yoga Mat|         Sports|      30| 29.99| 899.6999999999999|\n",
      "|  8|        Levi's Jeans|       Clothing|      15| 49.99|            749.85|\n",
      "|  4|    The Great Gatsby|          Books|      50| 12.99|             649.5|\n",
      "| 11|    Darth Vader Lego|           Toys|      10| 49.99|499.90000000000003|\n",
      "+---+--------------------+---------------+--------+------+------------------+\n",
      "\n"
     ]
    }
   ],
   "source": [
    "df_with_new_column = df.withColumn(\"revenue\", df.quantity * df.price)\n",
    "from pyspark.sql.functions import asc\n",
    "df_sorted_new = df_with_new_column.orderBy(col(\"revenue\").desc(), col(\"category\").asc())\n",
    "print(\"DataFrame with Revenue Column\")\n",
    "df_sorted_new.show()"
   ]
  },
  {
   "cell_type": "markdown",
   "id": "e3444216-3f4a-4864-b9cf-cdd10af3689d",
   "metadata": {},
   "source": [
    "## Rename Columns"
   ]
  },
  {
   "cell_type": "code",
   "execution_count": 19,
   "id": "58b937f2-dc38-4b5c-8efd-a7378e5ae5e3",
   "metadata": {},
   "outputs": [
    {
     "name": "stdout",
     "output_type": "stream",
     "text": [
      "Dataframe with Aliased column product_price\n",
      "+---+--------------------+---------------+--------+-------------+\n",
      "| id|                name|       category|quantity|product_price|\n",
      "+---+--------------------+---------------+--------+-------------+\n",
      "|  1|           iPhone 12|    Electronics|      10|       899.99|\n",
      "|  2|     Nike Air max 90|       Clothing|      25|       119.99|\n",
      "|  3|KitchenAid Stand ...|Home Appliances|       5|       299.99|\n",
      "|  4|    The Great Gatsby|          Books|      50|        12.99|\n",
      "|  5|L'Oreal Paris Mas...|         Beauty|     100|         9.99|\n",
      "|  6|            Yoga Mat|         Sports|      30|        29.99|\n",
      "|  7| Samsung 4k Smart TV|    Electronics|       8|       799.99|\n",
      "|  8|        Levi's Jeans|       Clothing|      15|        49.99|\n",
      "|  9|Dyson Vacuum Cleaner|Home Appliances|       3|       399.99|\n",
      "| 10|  Google Pixel 8 Pro|    Electronics|       4|       699.99|\n",
      "| 11|    Darth Vader Lego|           Toys|      10|        49.99|\n",
      "| 12|       Colosium Lego|           Toys|       2|       500.98|\n",
      "+---+--------------------+---------------+--------+-------------+\n",
      "\n"
     ]
    }
   ],
   "source": [
    "# Rename a column to improve understanding\n",
    "df_with_alias = df.withColumnRenamed(\"price\",\"product_price\")\n",
    "print(\"Dataframe with Aliased column product_price\")\n",
    "df_with_alias.show()"
   ]
  },
  {
   "cell_type": "markdown",
   "id": "7502f709-8f2d-4daa-ba02-05a800c11459",
   "metadata": {},
   "source": [
    "# End the Session"
   ]
  },
  {
   "cell_type": "code",
   "execution_count": 20,
   "id": "2efaa532-7d58-4e10-8b9e-6d7ddc9fce2d",
   "metadata": {},
   "outputs": [],
   "source": [
    "# end the spark session as a best practice.\n",
    "spark.stop()"
   ]
  },
  {
   "cell_type": "code",
   "execution_count": null,
   "id": "2f3c5b60-5bb4-4427-b431-09e97047d140",
   "metadata": {},
   "outputs": [],
   "source": []
  }
 ],
 "metadata": {
  "kernelspec": {
   "display_name": "Python 3 (ipykernel)",
   "language": "python",
   "name": "python3"
  },
  "language_info": {
   "codemirror_mode": {
    "name": "ipython",
    "version": 3
   },
   "file_extension": ".py",
   "mimetype": "text/x-python",
   "name": "python",
   "nbconvert_exporter": "python",
   "pygments_lexer": "ipython3",
   "version": "3.9.18"
  }
 },
 "nbformat": 4,
 "nbformat_minor": 5
}
