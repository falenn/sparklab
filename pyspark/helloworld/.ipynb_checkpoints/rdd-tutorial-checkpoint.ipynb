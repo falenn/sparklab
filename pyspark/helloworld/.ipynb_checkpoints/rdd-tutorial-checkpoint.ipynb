{
 "cells": [
  {
   "cell_type": "markdown",
   "id": "56161b6b-29ef-4e6d-8ca1-1182d5bbbfbd",
   "metadata": {},
   "source": [
    "# RDD - Resiliant Distributed Datasets\n",
    "\n",
    "## Characteristics\n",
    "Immutable\n",
    "Distributed - Spark distributes data for parallel processing via RDD\n",
    "Resilient - liniage tracks transformations done to data for fault tolerance\n",
    "Lazily evaluated - executed after plan\n",
    "fault-tolerant transformations\n",
    "\n",
    "## Transformations\n",
    "Creates new RDDS\n",
    "Lazy eval, lineage graph\n",
    "\n",
    "## Actions\n",
    "Return results or perform actions on RDD, triggering execution\n",
    "Eager evalutation\n",
    "data movement/ computation\n",
    "\n"
   ]
  },
  {
   "cell_type": "code",
   "execution_count": 2,
   "id": "3e9d35de-b283-4c70-be6e-87f81d407a3e",
   "metadata": {},
   "outputs": [],
   "source": [
    "# set env\n",
    "import os\n",
    "os.environ['SPARK_HOME'] = \"/home/cloud_user/apps/spark/current\"\n",
    "os.environ['PYSPARK_DRIVER_PYTHON'] = 'jupyter'\n",
    "os.environ['PYSPARK_DRIVER_PYTHON_OPTS'] = 'lab'\n",
    "os.environ['PYSPARK_PYTHON'] = 'python'"
   ]
  },
  {
   "cell_type": "code",
   "execution_count": 4,
   "id": "431a4ccf-8010-4734-bc40-df0a77e3b5f2",
   "metadata": {},
   "outputs": [],
   "source": [
    "# Import PySpark\n",
    "from pyspark.sql import SparkSession"
   ]
  },
  {
   "cell_type": "code",
   "execution_count": 7,
   "id": "dbd7f506-48dd-4ff1-8d74-b1c32a741b76",
   "metadata": {},
   "outputs": [
    {
     "name": "stderr",
     "output_type": "stream",
     "text": [
      "Setting default log level to \"WARN\".\n",
      "To adjust logging level use sc.setLogLevel(newLevel). For SparkR, use setLogLevel(newLevel).\n",
      "25/01/25 08:01:27 WARN NativeCodeLoader: Unable to load native-hadoop library for your platform... using builtin-java classes where applicable\n",
      "25/01/25 08:01:36 WARN Utils: Service 'SparkUI' could not bind on port 4040. Attempting port 4041.\n"
     ]
    }
   ],
   "source": [
    "# Create SparkSession\n",
    "spark = SparkSession.builder \\\n",
    "    .appName(\"rdd-tutorial\") \\\n",
    "    .getOrCreate()"
   ]
  },
  {
   "cell_type": "markdown",
   "id": "40edbf74-6f07-4cb5-ab7b-76661b8cfc9b",
   "metadata": {},
   "source": [
    "## Create RDD"
   ]
  },
  {
   "cell_type": "code",
   "execution_count": 8,
   "id": "0949339e-62fd-4818-8f38-aec0e4a31ce8",
   "metadata": {},
   "outputs": [],
   "source": [
    "numbers = [1,2,3,4,5]\n",
    "rdd = spark.sparkContext.parallelize(numbers)"
   ]
  },
  {
   "cell_type": "code",
   "execution_count": 10,
   "id": "55656f02-a44a-4d5f-aebc-11bd9963f71e",
   "metadata": {},
   "outputs": [
    {
     "name": "stderr",
     "output_type": "stream",
     "text": [
      "                                                                                "
     ]
    },
    {
     "data": {
      "text/plain": [
       "[1, 2, 3, 4, 5]"
      ]
     },
     "execution_count": 10,
     "metadata": {},
     "output_type": "execute_result"
    }
   ],
   "source": [
    "# Collect Action: retrieve all elements of the RDD\n",
    "rdd.collect()"
   ]
  },
  {
   "cell_type": "code",
   "execution_count": 12,
   "id": "08380356-c4e0-46c5-bad8-f16565c839ef",
   "metadata": {},
   "outputs": [],
   "source": [
    "data = [(\"Alice\", 25),(\"Bob\", 30),(\"Charlie\",35),(\"Fred\",33)]\n",
    "rdd = spark.sparkContext.parallelize(data)"
   ]
  },
  {
   "cell_type": "code",
   "execution_count": 16,
   "id": "aa2c1cb4-92eb-4a4d-b9b0-6cd2685cfc43",
   "metadata": {},
   "outputs": [
    {
     "name": "stdout",
     "output_type": "stream",
     "text": [
      "All elements of the rdd: [('Alice', 25), ('Bob', 30), ('Charlie', 35), ('Fred', 33)]\n"
     ]
    }
   ],
   "source": [
    "print(f\"All elements of the rdd: {rdd.collect()}\")"
   ]
  },
  {
   "cell_type": "markdown",
   "id": "8a8e4154-e7e9-4f10-a84f-5039f33d8afe",
   "metadata": {},
   "source": [
    "## RDD Actions"
   ]
  },
  {
   "cell_type": "code",
   "execution_count": 19,
   "id": "354a6bff-6cbf-44aa-a6a9-15103c927afb",
   "metadata": {},
   "outputs": [
    {
     "name": "stdout",
     "output_type": "stream",
     "text": [
      "The total number of elements in the rdd: 4\n"
     ]
    }
   ],
   "source": [
    "# Count action: Count number of elements in an RDD\n",
    "count = rdd.count()\n",
    "print(f\"The total number of elements in the rdd: {count}\")"
   ]
  },
  {
   "cell_type": "code",
   "execution_count": 21,
   "id": "c7930eb4-be8c-4a1a-b234-0d119c132058",
   "metadata": {},
   "outputs": [
    {
     "name": "stdout",
     "output_type": "stream",
     "text": [
      "The first element in the RDD: ('Alice', 25)\n"
     ]
    }
   ],
   "source": [
    "# First action: returns the first item in the RDD\n",
    "first = rdd.first()\n",
    "print(f\"The first element in the RDD: {first}\")"
   ]
  },
  {
   "cell_type": "code",
   "execution_count": 22,
   "id": "785f85b8-7a38-40cc-bab2-4528ea8cbb90",
   "metadata": {},
   "outputs": [
    {
     "name": "stdout",
     "output_type": "stream",
     "text": [
      "Taken elements: [('Alice', 25), ('Bob', 30)]\n"
     ]
    }
   ],
   "source": [
    "# Take action: Take specified amount of elements from the RDD starting from the front\n",
    "taken = rdd.take(2)\n",
    "print(f\"Taken elements: {taken}\")"
   ]
  },
  {
   "cell_type": "code",
   "execution_count": 24,
   "id": "7c17b70a-bb58-42c9-a708-cc17928b9c20",
   "metadata": {},
   "outputs": [
    {
     "name": "stderr",
     "output_type": "stream",
     "text": [
      "Item: ('Charlie', 35)\n",
      "Item: ('Fred', 33)\n",
      "Item: ('Alice', 25)\n",
      "Item: ('Bob', 30)\n"
     ]
    }
   ],
   "source": [
    "# Foreach action: Lets us call a function on each element of the RDD\n",
    "rdd.foreach(lambda x: print(f\"Item: {x}\"))"
   ]
  },
  {
   "cell_type": "markdown",
   "id": "eed3379b-b0a8-440c-b4de-61ea2cfc4317",
   "metadata": {},
   "source": [
    "## RDD Transformations"
   ]
  },
  {
   "cell_type": "code",
   "execution_count": null,
   "id": "c44abca0-c6a1-4123-a4e4-0f43859eefe2",
   "metadata": {},
   "outputs": [],
   "source": []
  }
 ],
 "metadata": {
  "kernelspec": {
   "display_name": "Python 3 (ipykernel)",
   "language": "python",
   "name": "python3"
  },
  "language_info": {
   "codemirror_mode": {
    "name": "ipython",
    "version": 3
   },
   "file_extension": ".py",
   "mimetype": "text/x-python",
   "name": "python",
   "nbconvert_exporter": "python",
   "pygments_lexer": "ipython3",
   "version": "3.9.18"
  }
 },
 "nbformat": 4,
 "nbformat_minor": 5
}
