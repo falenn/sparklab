{
 "cells": [
  {
   "cell_type": "markdown",
   "id": "05488869-eb8e-4d71-9689-f52f49d7c064",
   "metadata": {},
   "source": [
    "# About Dataframes\n",
    "A powerful abstaction for distributed and structured data.\n",
    "A structure similar to a table in a database.\n",
    "Contains schema information.\n",
    "\n",
    "Because schema info is included, dataframes enable query optimizations and predicate pushdowns; better performances than that of RDD - leverages Spark's Catalyst optimizer.\n",
    "\n",
    "Dataframes offer a SQL-like approach, seamless integration into SparkSQL, MLib, GraphX\n",
    "\n",
    "Dataframes are convertable to other formats such as Pandas"
   ]
  },
  {
   "cell_type": "code",
   "execution_count": 1,
   "id": "a3936b47-8bdc-43c7-b1d2-0706523425ae",
   "metadata": {},
   "outputs": [],
   "source": [
    "# set env\n",
    "import os\n",
    "os.environ['SPARK_HOME'] = \"/home/cloud_user/apps/spark/current\"\n",
    "os.environ['PYSPARK_DRIVER_PYTHON'] = 'jupyter'\n",
    "os.environ['PYSPARK_DRIVER_PYTHON_OPTS'] = 'lab'\n",
    "os.environ['PYSPARK_PYTHON'] = 'python'"
   ]
  },
  {
   "cell_type": "code",
   "execution_count": 2,
   "id": "6c9959a3-6e52-4baa-bcdf-7cea3d7e7172",
   "metadata": {},
   "outputs": [],
   "source": [
    "# Import PySpark\n",
    "from pyspark.sql import SparkSession\n",
    "from pyspark.sql.functions import desc"
   ]
  },
  {
   "cell_type": "code",
   "execution_count": 3,
   "id": "546cacc7-ea54-4e84-9bfa-0b3d092c5e24",
   "metadata": {},
   "outputs": [
    {
     "name": "stderr",
     "output_type": "stream",
     "text": [
      "Setting default log level to \"WARN\".\n",
      "To adjust logging level use sc.setLogLevel(newLevel). For SparkR, use setLogLevel(newLevel).\n",
      "25/01/25 09:23:15 WARN NativeCodeLoader: Unable to load native-hadoop library for your platform... using builtin-java classes where applicable\n"
     ]
    }
   ],
   "source": [
    "# Create SparkSession\n",
    "spark = SparkSession.builder \\\n",
    "    .appName(\"dataframes-tutorial\") \\\n",
    "    .getOrCreate()"
   ]
  },
  {
   "cell_type": "code",
   "execution_count": 7,
   "id": "b1f80404-42a4-4f67-bd87-b4164822363f",
   "metadata": {},
   "outputs": [
    {
     "name": "stderr",
     "output_type": "stream",
     "text": [
      "                                                                                "
     ]
    }
   ],
   "source": [
    "rdd = spark.sparkContext.textFile(\"data/st-augustine-on-christian-doctrine.txt\")\n",
    "result_rdd = rdd.flatMap(lambda line: line.split(\" \")) \\\n",
    "    .map(lambda word: (word, 1)) \\\n",
    "    .reduceByKey(lambda a, b: a + b) \\\n",
    "    .sortBy(lambda x: x[1], ascending=False)"
   ]
  },
  {
   "cell_type": "code",
   "execution_count": 8,
   "id": "16be6998-124e-49aa-a865-30ca6fae89c8",
   "metadata": {},
   "outputs": [
    {
     "name": "stdout",
     "output_type": "stream",
     "text": [
      "Top Ten: [('', 18382), ('the', 4212), ('of', 2743), ('to', 2412), ('and', 1828), ('in', 1497), ('is', 1358), ('that', 1221), ('a', 917), ('not', 815), ('it', 794), ('be', 712), ('as', 661), ('are', 646), ('which', 614), ('he', 576), ('by', 558), ('they', 473), ('for', 461), ('with', 459), ('we', 455), ('or', 422), ('who', 413), ('but', 399), ('this', 368), ('I', 348), ('when', 333), ('have', 331), ('And', 324), ('what', 310), ('from', 309), ('if', 283), ('For', 281), ('so', 281), ('his', 278), ('their', 266), ('all', 262), ('one', 260), ('our', 255), ('these', 229), ('was', 225), ('on', 223), ('them', 208), ('those', 208), ('man', 201), ('may', 191), ('has', 184), ('an', 170), ('men', 168), ('__________________________________________________________________', 166), ('things', 165), ('at', 164), ('more', 163), ('any', 159), ('no', 156), ('do', 155), ('But', 153), ('even', 150), ('Chapter', 150), ('other', 149), ('God', 147), ('were', 141), ('there', 140), ('He', 137), ('will', 133), ('had', 126), ('such', 126), ('own', 125), ('out', 124), ('us', 124), ('should', 120), ('only', 119), ('love', 119), ('same', 119), ('shall', 117), ('upon', 114), ('does', 113), ('its', 109), ('must', 105), ('been', 105), ('about', 105), ('can', 105), ('because', 105), ('into', 104), ('yet', 103), ('also', 101), ('would', 100), ('than', 99), ('you', 99), ('him', 96), ('whom', 96), ('ought', 95), ('The', 93), ('Now', 93), ('either', 93), ('way', 91), ('very', 89), ('His', 88), ('some', 85), ('great', 83)]\n"
     ]
    }
   ],
   "source": [
    "print(f\"Top Ten: {result_rdd.take(100)}\")"
   ]
  },
  {
   "cell_type": "code",
   "execution_count": 10,
   "id": "e83cb5dc-2d51-4942-85a6-0aae6c508d5d",
   "metadata": {},
   "outputs": [],
   "source": [
    "# now do word frequency using dataframes\n",
    "df = spark.read.text(\"data/st-augustine-on-christian-doctrine.txt\")\n",
    "result_df = df.selectExpr(\"explode(split(value, ' ')) as word\") \\\n",
    "    .groupBy(\"word\").count().orderBy(desc(\"count\"))"
   ]
  },
  {
   "cell_type": "code",
   "execution_count": 11,
   "id": "3b651e13-614b-4590-ac9a-c3eb296ffabd",
   "metadata": {},
   "outputs": [
    {
     "name": "stderr",
     "output_type": "stream",
     "text": [
      "[Stage 17:>                                                         (0 + 1) / 1]"
     ]
    },
    {
     "name": "stdout",
     "output_type": "stream",
     "text": [
      "Word freq desc: [Row(word='', count=18382), Row(word='the', count=4212), Row(word='of', count=2743), Row(word='to', count=2412), Row(word='and', count=1828), Row(word='in', count=1497), Row(word='is', count=1358), Row(word='that', count=1221), Row(word='a', count=917), Row(word='not', count=815), Row(word='it', count=794), Row(word='be', count=712), Row(word='as', count=661), Row(word='are', count=646), Row(word='which', count=614), Row(word='he', count=576), Row(word='by', count=558), Row(word='they', count=473), Row(word='for', count=461), Row(word='with', count=459), Row(word='we', count=455), Row(word='or', count=422), Row(word='who', count=413), Row(word='but', count=399), Row(word='this', count=368), Row(word='I', count=348), Row(word='when', count=333), Row(word='have', count=331), Row(word='And', count=324), Row(word='what', count=310), Row(word='from', count=309), Row(word='if', count=283), Row(word='For', count=281), Row(word='so', count=281), Row(word='his', count=278), Row(word='their', count=266), Row(word='all', count=262), Row(word='one', count=260), Row(word='our', count=255), Row(word='these', count=229), Row(word='was', count=225), Row(word='on', count=223), Row(word='those', count=208), Row(word='them', count=208), Row(word='man', count=201), Row(word='may', count=191), Row(word='has', count=184), Row(word='an', count=170), Row(word='men', count=168), Row(word='__________________________________________________________________', count=166), Row(word='things', count=165), Row(word='at', count=164), Row(word='more', count=163), Row(word='any', count=159), Row(word='no', count=156), Row(word='do', count=155), Row(word='But', count=153), Row(word='even', count=150), Row(word='Chapter', count=150), Row(word='other', count=149), Row(word='God', count=147), Row(word='were', count=141), Row(word='there', count=140), Row(word='He', count=137), Row(word='will', count=133), Row(word='such', count=126), Row(word='had', count=126), Row(word='own', count=125), Row(word='us', count=124), Row(word='out', count=124), Row(word='should', count=120), Row(word='love', count=119), Row(word='only', count=119), Row(word='same', count=119), Row(word='shall', count=117), Row(word='upon', count=114), Row(word='does', count=113), Row(word='its', count=109), Row(word='can', count=105), Row(word='because', count=105), Row(word='must', count=105), Row(word='been', count=105), Row(word='about', count=105), Row(word='into', count=104), Row(word='yet', count=103), Row(word='also', count=101), Row(word='would', count=100), Row(word='than', count=99), Row(word='you', count=99), Row(word='him', count=96), Row(word='whom', count=96), Row(word='ought', count=95), Row(word='Now', count=93), Row(word='The', count=93), Row(word='either', count=93), Row(word='way', count=91), Row(word='very', count=89), Row(word='His', count=88), Row(word='some', count=85), Row(word='great', count=83)]\n"
     ]
    },
    {
     "name": "stderr",
     "output_type": "stream",
     "text": [
      "                                                                                "
     ]
    }
   ],
   "source": [
    "print(f\"Word freq desc: {result_df.take(100)}\")"
   ]
  },
  {
   "cell_type": "code",
   "execution_count": null,
   "id": "78c1c284-94a6-470a-a5f1-8801bf234f2f",
   "metadata": {},
   "outputs": [],
   "source": []
  }
 ],
 "metadata": {
  "kernelspec": {
   "display_name": "Python 3 (ipykernel)",
   "language": "python",
   "name": "python3"
  },
  "language_info": {
   "codemirror_mode": {
    "name": "ipython",
    "version": 3
   },
   "file_extension": ".py",
   "mimetype": "text/x-python",
   "name": "python",
   "nbconvert_exporter": "python",
   "pygments_lexer": "ipython3",
   "version": "3.9.18"
  }
 },
 "nbformat": 4,
 "nbformat_minor": 5
}
